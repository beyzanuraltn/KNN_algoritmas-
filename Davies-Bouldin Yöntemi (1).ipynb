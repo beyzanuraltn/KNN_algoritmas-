{
 "cells": [
  {
   "cell_type": "markdown",
   "id": "affb8c81-d4f1-44a0-80b4-37320f4e5d30",
   "metadata": {},
   "source": [
    "**Davies-Bouldin Yöntemi Nedir?\n",
    "\n",
    "Davies-Bouldin İndeksi, bir kümeleme sonucunun ne kadar başarılı olduğunu değerlendirir. Daha küçük DB değeri, daha iyi bir kümeleme performansına işaret eder.\n",
    "\n",
    "Davies-Bouldin (DB) yöntemi, kümeleme analizlerinde kullanılan iç tutarlılık (intra-cluster similarity) ve küme ayrılığı (inter-cluster separation) metriklerine dayalı bir geçerlilik (validity) ölçütüdür. "
   ]
  },
  {
   "cell_type": "markdown",
   "id": "bc3d5e65-4b51-422e-a2fd-5879d46636f6",
   "metadata": {},
   "source": [
    "**Nasıl Uygulanır?\n",
    "\n",
    "Python + scikit-learn kullanarak uygulanabilir.\n",
    "1. Gerekli Kütüphaneleri Yükle\n",
    "2. Veri Oluştur veya Yükle\n",
    "3. Kümeleme Uygula\n",
    "4. DB Skorunu Hesapla"
   ]
  },
  {
   "cell_type": "code",
   "execution_count": 2,
   "id": "3e25a44a-aea5-434c-82af-3bd8c816ba18",
   "metadata": {},
   "outputs": [],
   "source": [
    "import numpy as np\n",
    "from sklearn.datasets import make_blobs\n",
    "from sklearn.cluster import KMeans\n",
    "from sklearn.metrics import davies_bouldin_score\n"
   ]
  },
  {
   "cell_type": "code",
   "execution_count": 3,
   "id": "a85eb489-3b62-4b9b-afb7-ae541b41df30",
   "metadata": {},
   "outputs": [],
   "source": [
    "X, y = make_blobs(n_samples=500, centers=3, random_state=42)"
   ]
  },
  {
   "cell_type": "code",
   "execution_count": 4,
   "id": "79ae7404-3392-449d-868f-cde8e90135a6",
   "metadata": {},
   "outputs": [],
   "source": [
    "kmeans = KMeans(n_clusters=3, random_state=42)\n",
    "labels = kmeans.fit_predict(X)"
   ]
  },
  {
   "cell_type": "code",
   "execution_count": 5,
   "id": "09f68eb6-b647-4566-8d07-286175e5ffbb",
   "metadata": {},
   "outputs": [
    {
     "name": "stdout",
     "output_type": "stream",
     "text": [
      "Davies-Bouldin Skoru: 0.22152502252185613\n"
     ]
    }
   ],
   "source": [
    "db_score = davies_bouldin_score(X, labels)\n",
    "print(\"Davies-Bouldin Skoru:\", db_score)"
   ]
  }
 ],
 "metadata": {
  "kernelspec": {
   "display_name": "Python 3 (ipykernel)",
   "language": "python",
   "name": "python3"
  },
  "language_info": {
   "codemirror_mode": {
    "name": "ipython",
    "version": 3
   },
   "file_extension": ".py",
   "mimetype": "text/x-python",
   "name": "python",
   "nbconvert_exporter": "python",
   "pygments_lexer": "ipython3",
   "version": "3.9.21"
  }
 },
 "nbformat": 4,
 "nbformat_minor": 5
}

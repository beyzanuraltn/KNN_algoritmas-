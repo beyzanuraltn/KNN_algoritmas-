{
 "cells": [
  {
   "cell_type": "markdown",
   "id": "88af5d31-26d5-48c4-97c8-6f555a7d2acd",
   "metadata": {},
   "source": [
    "**#KNN (K-Nearest Neighbors) Nedir?**\n",
    "\n",
    "-KNN, eğitim verisinde en yakın K komşuya bakarak sınıflandırma yapan bir algoritmadır.\n",
    "\n",
    "-Özellikle metin verisi gibi yüksek boyutlu veri için yavaş çalışabilir ama küçük veri setlerinde işe yarar."
   ]
  },
  {
   "cell_type": "markdown",
   "id": "db2e53bf-a0cd-4b86-b416-d6323b73c9b2",
   "metadata": {},
   "source": [
    "**Nasıl Çalışır?**\n",
    "\n",
    "-Eğitim verileri bellekte tutulur (yani lazy learning — öğrenme aşamasında model oluşturmaz).\n",
    "\n",
    "--Yeni bir veri geldiğinde:\n",
    "\n",
    "-Eğitim setindeki tüm noktalarla olan mesafesi hesaplanır (örneğin, Euclidean, Manhattan, ya da Cosine mesafesi).\n",
    "\n",
    "-En yakın K tanesi seçilir.\n",
    "\n",
    "-Bu komşuların sınıf etiketlerinin çoğunluğuna göre tahmin yapılır."
   ]
  },
  {
   "cell_type": "markdown",
   "id": "2d155b6b-c792-41a8-b5d7-894dcb61628b",
   "metadata": {},
   "source": [
    "**KNN’in Dezavantajları :**\n",
    "\n",
    "-Metin verisi genelde çok yüksek boyutludur (binlerce kelime → binlerce öznitelik).\n",
    "\n",
    "-KNN bu durumda hem yavaş çalışır hem de hassas olabilir."
   ]
  },
  {
   "cell_type": "markdown",
   "id": "ff420f2d-aee1-4af4-8971-3b6153035bd7",
   "metadata": {},
   "source": [
    "**Avantajları**\n",
    "  \n",
    "-Basit ve anlaşılırdır – algoritmanın mantığı sezgiseldir.\n",
    "\n",
    "-Eğitim süresi yoktur – çünkü model veriye göre öğrenmez; direkt tahmin aşamasında çalışır.\n",
    "\n",
    "-Herhangi bir dağılım varsayımı gerekmez – Naive Bayes gibi algoritmalar belirli dağılımlar (örneğin Gauss) varsayar.\n",
    "\n",
    "-Hem sınıflandırma hem regresyon için kullanılabilir.\n",
    "\n",
    "-Çok sınıflı problemleri kolayca destekler."
   ]
  },
  {
   "cell_type": "markdown",
   "id": "d7216d61-93a5-4a7c-bd3d-6401eb9e4ce3",
   "metadata": {},
   "source": [
    "**KNN Kullanırken Dikkat Edilmesi Gerekenler**\n",
    "    \n",
    "-Uzaklık metriği seçimi çok önemlidir.Özellikle metin verilerinde cosine similarity genellikle daha iyi sonuç verir.\n",
    "\n",
    "-Boyut azaltma (PCA, Truncated SVD) gibi yöntemlerle performans artırılabilir.\n",
    "\n",
    "--K değeri seçimi:\n",
    "    \n",
    "Küçük K → Gürültüye duyarlı\n",
    "    \n",
    "Büyük K → Sınıf sınırlarını belirsizleştirebilir.\n",
    "    \n",
    "-Genellikle tek sayılar (3, 5, 7...) tercih edilir ve cross-validation ile seçilir."
   ]
  },
  {
   "cell_type": "markdown",
   "id": "86711da2-de25-467b-a151-2adfcd6b55ba",
   "metadata": {},
   "source": [
    "**KNN Nerelerde Kullanılır?**\n",
    "\n",
    "**Alan -\tÖrnek Kullanım**\n",
    "\n",
    "Sağlık - Bir hastanın geçmiş verilerine göre tanı tahmini\n",
    "\n",
    "Görüntü İşleme - Görsel benzerlik arama, el yazısı rakam tanıma\n",
    "\n",
    "Pazarlama - Müşteri segmentasyonu, benzer müşteri bulma\n",
    "\n",
    "Finans - Kredi risk tahmini, benzer yatırımcı analizi\n",
    "\n",
    "Metin Madenciliği -\tKısa metin sınıflandırma (düşük boyutlu metinler için uygundur)"
   ]
  }
 ],
 "metadata": {
  "kernelspec": {
   "display_name": "Python 3 (ipykernel)",
   "language": "python",
   "name": "python3"
  },
  "language_info": {
   "codemirror_mode": {
    "name": "ipython",
    "version": 3
   },
   "file_extension": ".py",
   "mimetype": "text/x-python",
   "name": "python",
   "nbconvert_exporter": "python",
   "pygments_lexer": "ipython3",
   "version": "3.9.21"
  }
 },
 "nbformat": 4,
 "nbformat_minor": 5
}

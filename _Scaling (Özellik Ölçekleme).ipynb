{
 "cells": [
  {
   "cell_type": "markdown",
   "id": "832f8ca1-1ddd-470c-8836-27f097591448",
   "metadata": {},
   "source": [
    "# 🔢 Scaling (Özellik Ölçekleme) Nedir?\n",
    "\n",
    "Özellik ölçekleme (feature scaling), makine öğrenmesi modellerinde kullanılan giriş verilerinin (özelliklerin) **ortak bir ölçekte** ifade edilmesini sağlar. Çünkü bazı algoritmalar (örneğin KNN, SVM, k-means) **özellikler arasındaki mesafelere** duyarlıdır.\n",
    "\n",
    "## 🚫 Neden Gerekli?\n",
    "\n",
    "Farklı ölçekteki değişkenler model eğitimini olumsuz etkileyebilir:\n",
    "\n",
    "| Özellik | Değer Aralığı |\n",
    "|---------|---------------|\n",
    "| Yaş     | 0 - 100       |\n",
    "| Gelir   | 0 - 100,000   |\n",
    "\n",
    "Bu durumda büyük değere sahip değişken, modelin kararlarını gereksiz yere domine eder.\n",
    "\n",
    "---\n",
    "\n",
    "## 📌 Kullanılan Yöntemler\n",
    "\n",
    "### 1. Min-Max Scaling (Normalization)\n",
    "\n",
    "Özellikler **0 ile 1** arasına ölçeklenir.\n",
    "\n",
    "\\[\n",
    "X_{\\text{scaled}} = \\frac{X - X_{\\min}}{X_{\\max} - X_{\\min}}\n",
    "\\]\n",
    "\n",
    "**Kütüphane Kullanımı:**\n",
    "\n",
    "```python\n",
    "from sklearn.preprocessing import MinMaxScaler\n",
    "\n",
    "scaler = MinMaxScaler()\n",
    "X_scaled = scaler.fit_transform(X)\n"
   ]
  },
  {
   "cell_type": "markdown",
   "id": "ee22ef2e-29d1-4c34-8ba3-bd40bb2deb0d",
   "metadata": {},
   "source": [
    "# 2. Standardization (Z-score Normalizasyonu)\n",
    "Veri ortalaması sıfır, standart sapması bir olacak şekilde dönüştürülür.\n",
    "\n",
    "**Kütüphane Kullanımı:**\n",
    "\n",
    "from sklearn.preprocessing import StandardScaler\n",
    "\n",
    "scaler = StandardScaler()\n",
    "X_scaled = scaler.fit_transform(X)"
   ]
  },
  {
   "cell_type": "markdown",
   "id": "3a5d050a-f2b5-409c-9d93-38d470fcdb94",
   "metadata": {},
   "source": [
    "# 3. Robust Scaling\n",
    "Aykırı değerlere karşı dayanıklıdır. Medyan ve IQR (interquartile range) kullanır.\n",
    "\n",
    "**Kütüphane Kullanımı:**\n",
    "\n",
    "from sklearn.preprocessing import RobustScaler\n",
    "\n",
    "scaler = RobustScaler()\n",
    "X_scaled = scaler.fit_transform(X)"
   ]
  },
  {
   "cell_type": "markdown",
   "id": "12f8cc4d-7e0a-4fba-ab4e-5a75bd20283f",
   "metadata": {},
   "source": [
    "| Algoritma     | Ölçekleme Gerekli mi? |\n",
    "| ------------- | --------------------- |\n",
    "| K-Means       | ✅ Evet                |\n",
    "| KNN           | ✅ Evet                |\n",
    "| SVM           | ✅ Evet                |\n",
    "| PCA           | ✅ Evet                |\n",
    "| Decision Tree | ❌ Hayır               |\n",
    "| Random Forest | ❌ Hayır               |\n",
    "| Naive Bayes   | ❌ Hayır               |\n"
   ]
  },
  {
   "cell_type": "markdown",
   "id": "0dd467cd-1e78-43f8-8cef-94e85080ef17",
   "metadata": {},
   "source": [
    "# ✅ Özet\n",
    "Özellik ölçekleme, model performansını ve eğitim süresini doğrudan etkiler.\n",
    "\n",
    "Özellikle mesafe tabanlı veya gradyan tabanlı algoritmalarda şarttır.\n",
    "\n",
    "**En yaygın yöntemler:** Min-Max, Standardization, Robust Scaling\n",
    "\n"
   ]
  }
 ],
 "metadata": {
  "kernelspec": {
   "display_name": "Python 3 (ipykernel)",
   "language": "python",
   "name": "python3"
  },
  "language_info": {
   "codemirror_mode": {
    "name": "ipython",
    "version": 3
   },
   "file_extension": ".py",
   "mimetype": "text/x-python",
   "name": "python",
   "nbconvert_exporter": "python",
   "pygments_lexer": "ipython3",
   "version": "3.9.21"
  }
 },
 "nbformat": 4,
 "nbformat_minor": 5
}
